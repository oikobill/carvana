{
 "cells": [
  {
   "cell_type": "markdown",
   "metadata": {},
   "source": [
    "# U-nets\n",
    "\n",
    "Originally used for biomedical image segmentation. Paper is [here](https://arxiv.org/pdf/1505.04597.pdf).\n",
    "Architecture looks something like that. Pretty much an encoder with added connections (typical trick).\n",
    "\n",
    "![](imgs/unets_architecture.png)\n"
   ]
  },
  {
   "cell_type": "code",
   "execution_count": 37,
   "metadata": {
    "collapsed": false
   },
   "outputs": [],
   "source": [
    "import numpy as np\n",
    "import pandas as pd\n",
    "import matplotlib.pyplot as plt\n",
    "from keras.models import Sequential, Model\n",
    "from keras.layers import Dense, Conv2D, Input, MaxPool2D, UpSampling2D, Concatenate, Lambda\n",
    "from keras.backend import tf as KTF\n",
    "from keras.optimizers import Adam\n",
    "from scipy.misc import imresize\n",
    "from tqdm import tqdm\n",
    "from sklearn.model_selection import train_test_split\n",
    "import os\n",
    "from keras.preprocessing.image import array_to_img, img_to_array, load_img, ImageDataGenerator\n",
    "%matplotlib inline"
   ]
  },
  {
   "cell_type": "code",
   "execution_count": 42,
   "metadata": {
    "collapsed": false
   },
   "outputs": [],
   "source": [
    "data_dir = \"../small_dataset/train/\"\n",
    "mask_dir = \"../small_dataset/train_masks/\"\n",
    "all_images = os.listdir(data_dir)"
   ]
  },
  {
   "cell_type": "code",
   "execution_count": 43,
   "metadata": {
    "collapsed": true
   },
   "outputs": [],
   "source": [
    "train_images, validation_images = train_test_split(all_images, train_size=0.8)"
   ]
  },
  {
   "cell_type": "code",
   "execution_count": null,
   "metadata": {
    "collapsed": false
   },
   "outputs": [],
   "source": [
    "# Conv Block 1\n",
    "input_layer = Input(shape = (512, 512, 3))\n",
    "conv1_b1 = Conv2D(64, 3, activation='relu', padding=\"same\")(input_layer)\n",
    "conv2_b1 = Conv2D(64, 3, activation='relu', padding=\"same\")(conv1_b1)\n",
    "\n",
    "b1_maxpooling = MaxPool2D()(conv2_b1)\n",
    "\n",
    "# Conv Block 2\n",
    "conv1_b2 = Conv2D(128, 3, activation='relu', padding=\"same\")(b1_maxpooling)\n",
    "conv2_b2 = Conv2D(128, 3, activation='relu', padding=\"same\")(conv1_b2)\n",
    "\n",
    "b2_maxpooling = MaxPool2D()(conv2_b2)\n",
    "\n",
    "# Conv Block 3\n",
    "conv1_b3 = Conv2D(256, 3, activation='relu', padding=\"same\")(b2_maxpooling)\n",
    "conv2_b3 = Conv2D(256, 3, activation='relu', padding=\"same\")(conv1_b3)\n",
    "\n",
    "b3_maxpooling = MaxPool2D()(conv2_b3)\n",
    "\n",
    "# Bottom Layer\n",
    "conv1_bottom = Conv2D(512, 3, activation='relu', padding=\"same\")(b3_maxpooling)\n",
    "conv2_bottom = Conv2D(512, 3, activation='relu', padding=\"same\")(conv1_bottom)\n",
    "\n",
    "# Concatenation 1\n",
    "upsample_1 = UpSampling2D()(conv2_bottom)\n",
    "conv_cat1 = Conv2D(256, 3, activation='relu', padding=\"same\")(upsample_1)\n",
    "concat_1 = Concatenate(axis=3)([conv_cat1, conv2_b3]) \n",
    "\n",
    "# Convolution Block 4\n",
    "conv1_b4 = Conv2D(256, 3, activation='relu', padding=\"same\")(concat_1)\n",
    "conv2_b4 = Conv2D(256, 3, activation='relu', padding=\"same\")(conv1_b4)\n",
    "\n",
    "# Concatenation 2\n",
    "upsample_2 = UpSampling2D()(conv2_b4)\n",
    "conv_cat2 = Conv2D(128, 3, activation='relu', padding=\"same\")(upsample_2)\n",
    "concat_2 = Concatenate(axis=3)([conv_cat2, conv2_b2]) \n",
    "\n",
    "# Convolution Block 5\n",
    "conv1_b5 = Conv2D(128, 3, activation='relu', padding=\"same\")(concat_2)\n",
    "conv2_b5 = Conv2D(128, 3, activation='relu', padding=\"same\")(conv1_b5)\n",
    "\n",
    "# Concatenation 3\n",
    "upsample_3 = UpSampling2D()(conv2_b5)\n",
    "conv_cat3 = Conv2D(64, 3, activation='relu', padding=\"same\")(upsample_3)\n",
    "concat_3 = Concatenate(axis=3)([conv_cat3, conv2_b1]) \n",
    "\n",
    "# Convolution Block 5\n",
    "conv1_b5 = Conv2D(64, 3, activation='relu', padding=\"same\")(concat_3)\n",
    "conv2_b5 = Conv2D(64, 3, activation='relu', padding=\"same\")(conv1_b5)\n",
    "\n",
    "out = Conv2D(1, 1, activation='sigmoid', padding=\"same\")(conv2_b5)\n",
    "\n",
    "out = Lambda(lambda image: KTF.image.resize_images(image, (1280, 1918)))(out)"
   ]
  },
  {
   "cell_type": "code",
   "execution_count": null,
   "metadata": {
    "collapsed": false
   },
   "outputs": [],
   "source": [
    "model = Model(input_layer, out)"
   ]
  },
  {
   "cell_type": "code",
   "execution_count": null,
   "metadata": {
    "collapsed": false
   },
   "outputs": [],
   "source": [
    "def  dice(y_true, y_pred):\n",
    "    # Symbolically compute the intersection\n",
    "    y_int = y_true*y_pred\n",
    "    # Technically this is the negative of the Sorensen-Dice index. This is done for\n",
    "    # minimization purposes\n",
    "    return -(2*KTF.reduce_sum(y_int) / (KTF.reduce_sum(y_true) + KTF.reduce_sum(y_pred)))\n",
    "\n",
    "model.compile(optimizer=Adam(), loss='binary_crossentropy', metrics=[dice])"
   ]
  },
  {
   "cell_type": "code",
   "execution_count": 51,
   "metadata": {
    "collapsed": true
   },
   "outputs": [],
   "source": [
    "from keras.backend import tensorflow_backend as KTF\n",
    "\n",
    "def dice_coef(y_true, y_pred):\n",
    "    smooth = 1e-5\n",
    "    y_true = KTF.round(KTF.reshape(y_true, [-1]))\n",
    "    y_pred = KTF.round(KTF.reshape(y_pred, [-1]))\n",
    "    \n",
    "    isct = KTF.reduce_sum(y_true * y_pred)\n",
    "    return (2 * isct + smooth) / (KTF.reduce_sum(y_true) + KTF.reduce_sum(y_pred) + smooth)"
   ]
  },
  {
   "cell_type": "code",
   "execution_count": null,
   "metadata": {
    "collapsed": true
   },
   "outputs": [],
   "source": [
    "def train_gen(batch_size=1):\n",
    "    while True:\n",
    "        ix = np.random.choice(np.arange(len(train_images)), batch_size)\n",
    "        imgs = []\n",
    "        labels = []\n",
    "        for i in ix:\n",
    "            img = img_to_array(load_img(data_dir+train_images[i]))/255\n",
    "            imgs.append(img)\n",
    "            label = (img_to_array(load_img(\"data/train_masks/\"+train_images[i].split(\".\")[0]+'_mask.gif'))/255).sum(-1)\n",
    "            labels.append(label)\n",
    "        imgs= np.array(imgs)\n",
    "        labels= np.array(labels)\n",
    "        imgs = np.array([imresize(im, (512, 512)) for im in imgs])\n",
    "        yield imgs.reshape(-1, 512, 512, 3), labels.reshape(-1, 1280, 1918, 1)"
   ]
  },
  {
   "cell_type": "code",
   "execution_count": null,
   "metadata": {
    "collapsed": false
   },
   "outputs": [],
   "source": [
    "model.fit_generator(train_gen(1), steps_per_epoch=10)"
   ]
  },
  {
   "cell_type": "code",
   "execution_count": null,
   "metadata": {
    "collapsed": true
   },
   "outputs": [],
   "source": []
  },
  {
   "cell_type": "code",
   "execution_count": null,
   "metadata": {
    "collapsed": true
   },
   "outputs": [],
   "source": []
  },
  {
   "cell_type": "code",
   "execution_count": 1,
   "metadata": {
    "collapsed": false
   },
   "outputs": [
    {
     "name": "stderr",
     "output_type": "stream",
     "text": [
      "Using TensorFlow backend.\n"
     ]
    }
   ],
   "source": [
    "from keras.layers import Conv2D, UpSampling2D, MaxPooling2D, Input\n",
    "from keras.layers.merge import Concatenate\n",
    "from keras.models import Model, Sequential"
   ]
  },
  {
   "cell_type": "code",
   "execution_count": 31,
   "metadata": {
    "collapsed": false
   },
   "outputs": [],
   "source": [
    "# input layer 128\n",
    "input_layer = Input(shape=(128, 128, 3))\n",
    "\n",
    "# Block 1 128\n",
    "c1_b1 = Conv2D(filters=16, kernel_size=3, padding=\"SAME\", activation=\"relu\")(input_layer)\n",
    "c2_b1 = Conv2D(filters=32, kernel_size=1, padding=\"SAME\", activation=\"relu\")(c1_b1)\n",
    "\n",
    "max_pool1 = MaxPooling2D(strides=2)(c2_b1)\n",
    "\n",
    "# Block 2 64\n",
    "c1_b2 = Conv2D(filters=64, kernel_size=3, padding=\"SAME\", activation=\"relu\")(max_pool1)\n",
    "c2_b2 = Conv2D(filters=128, kernel_size=1, padding=\"SAME\", activation=\"relu\")(c1_b2)\n",
    "\n",
    "max_pool2 = MaxPooling2D(strides=2)(c2_b2)\n",
    "\n",
    "# Block 3 32\n",
    "c1_b3 = Conv2D(filters=256, kernel_size=3, padding=\"SAME\", activation=\"relu\")(max_pool2)\n",
    "c2_b3 = Conv2D(filters=512, kernel_size=1, padding=\"SAME\", activation=\"relu\")(c1_b3)\n",
    "\n",
    "max_pool3 = MaxPooling2D(strides=2)(c2_b3)\n",
    "\n",
    "# Block 4 16\n",
    "c1_b4 = Conv2D(filters=512, kernel_size=3, padding=\"SAME\", activation=\"relu\")(max_pool3)\n",
    "c2_b4 = Conv2D(filters=512, kernel_size=1, padding=\"SAME\", activation=\"relu\")(c1_b4)\n",
    "\n",
    "max_pool4 = MaxPooling2D(strides=2)(c2_b4)\n",
    "\n",
    "# Same 8\n",
    "same = Conv2D(filters=512, kernel_size=3, padding=\"SAME\", activation=\"relu\")(max_pool4)\n",
    "\n",
    "# Up 1\n",
    "upsample1 = UpSampling2D(2)(same)\n",
    "concat1 = Concatenate(-1)([upsample1, c2_b4])\n",
    "\n",
    "c1_b5 = Conv2D(filters=512, kernel_size=1, padding=\"SAME\", activation=\"relu\")(concat1)\n",
    "c2_b5 = Conv2D(filters=512, kernel_size=3, padding=\"SAME\", activation=\"relu\")(c1_b5)\n",
    "\n",
    "# Up 2\n",
    "upsample2 = UpSampling2D(2)(c2_b5)\n",
    "concat2 = Concatenate(-1)([upsample2, c2_b3])\n",
    "\n",
    "c1_b6 = Conv2D(filters=512, kernel_size=1, padding=\"SAME\", activation=\"relu\")(concat2)\n",
    "c2_b6 = Conv2D(filters=128, kernel_size=3, padding=\"SAME\", activation=\"relu\")(c1_b6)\n",
    "\n",
    "# Up 3\n",
    "upsample3 = UpSampling2D(2)(c2_b6)\n",
    "concat3 = Concatenate(-1)([upsample3, c2_b2])\n",
    "\n",
    "c1_b7 = Conv2D(filters=128, kernel_size=1, padding=\"SAME\", activation=\"relu\")(concat3)\n",
    "c2_b7 = Conv2D(filters=32, kernel_size=3, padding=\"SAME\", activation=\"relu\")(c1_b7)\n",
    "\n",
    "# Up 4\n",
    "upsample4 = UpSampling2D(2)(c2_b7)\n",
    "concat4 = Concatenate(-1)([upsample4, c2_b1])\n",
    "\n",
    "c1_b8 = Conv2D(filters=128, kernel_size=1, padding=\"SAME\", activation=\"relu\")(concat4)\n",
    "c2_b8 = Conv2D(filters=32, kernel_size=3, padding=\"SAME\", activation=\"relu\")(c1_b8)\n",
    "\n",
    "out = Conv2D(filters=1, kernel_size=1, activation='sigmoid')(c2_b8)"
   ]
  },
  {
   "cell_type": "code",
   "execution_count": 33,
   "metadata": {
    "collapsed": false
   },
   "outputs": [],
   "source": [
    "model = Model(input_layer, out)"
   ]
  },
  {
   "cell_type": "code",
   "execution_count": 34,
   "metadata": {
    "collapsed": false
   },
   "outputs": [
    {
     "name": "stdout",
     "output_type": "stream",
     "text": [
      "____________________________________________________________________________________________________\n",
      "Layer (type)                     Output Shape          Param #     Connected to                     \n",
      "====================================================================================================\n",
      "input_16 (InputLayer)            (None, 128, 128, 3)   0                                            \n",
      "____________________________________________________________________________________________________\n",
      "conv2d_192 (Conv2D)              (None, 128, 128, 16)  448         input_16[0][0]                   \n",
      "____________________________________________________________________________________________________\n",
      "conv2d_193 (Conv2D)              (None, 128, 128, 32)  544         conv2d_192[0][0]                 \n",
      "____________________________________________________________________________________________________\n",
      "max_pooling2d_61 (MaxPooling2D)  (None, 64, 64, 32)    0           conv2d_193[0][0]                 \n",
      "____________________________________________________________________________________________________\n",
      "conv2d_194 (Conv2D)              (None, 64, 64, 64)    18496       max_pooling2d_61[0][0]           \n",
      "____________________________________________________________________________________________________\n",
      "conv2d_195 (Conv2D)              (None, 64, 64, 128)   8320        conv2d_194[0][0]                 \n",
      "____________________________________________________________________________________________________\n",
      "max_pooling2d_62 (MaxPooling2D)  (None, 32, 32, 128)   0           conv2d_195[0][0]                 \n",
      "____________________________________________________________________________________________________\n",
      "conv2d_196 (Conv2D)              (None, 32, 32, 256)   295168      max_pooling2d_62[0][0]           \n",
      "____________________________________________________________________________________________________\n",
      "conv2d_197 (Conv2D)              (None, 32, 32, 512)   131584      conv2d_196[0][0]                 \n",
      "____________________________________________________________________________________________________\n",
      "max_pooling2d_63 (MaxPooling2D)  (None, 16, 16, 512)   0           conv2d_197[0][0]                 \n",
      "____________________________________________________________________________________________________\n",
      "conv2d_198 (Conv2D)              (None, 16, 16, 512)   2359808     max_pooling2d_63[0][0]           \n",
      "____________________________________________________________________________________________________\n",
      "conv2d_199 (Conv2D)              (None, 16, 16, 512)   262656      conv2d_198[0][0]                 \n",
      "____________________________________________________________________________________________________\n",
      "max_pooling2d_64 (MaxPooling2D)  (None, 8, 8, 512)     0           conv2d_199[0][0]                 \n",
      "____________________________________________________________________________________________________\n",
      "conv2d_200 (Conv2D)              (None, 8, 8, 512)     2359808     max_pooling2d_64[0][0]           \n",
      "____________________________________________________________________________________________________\n",
      "up_sampling2d_36 (UpSampling2D)  (None, 16, 16, 512)   0           conv2d_200[0][0]                 \n",
      "____________________________________________________________________________________________________\n",
      "concatenate_34 (Concatenate)     (None, 16, 16, 1024)  0           up_sampling2d_36[0][0]           \n",
      "                                                                   conv2d_199[0][0]                 \n",
      "____________________________________________________________________________________________________\n",
      "conv2d_201 (Conv2D)              (None, 16, 16, 512)   524800      concatenate_34[0][0]             \n",
      "____________________________________________________________________________________________________\n",
      "conv2d_202 (Conv2D)              (None, 16, 16, 512)   2359808     conv2d_201[0][0]                 \n",
      "____________________________________________________________________________________________________\n",
      "up_sampling2d_37 (UpSampling2D)  (None, 32, 32, 512)   0           conv2d_202[0][0]                 \n",
      "____________________________________________________________________________________________________\n",
      "concatenate_35 (Concatenate)     (None, 32, 32, 1024)  0           up_sampling2d_37[0][0]           \n",
      "                                                                   conv2d_197[0][0]                 \n",
      "____________________________________________________________________________________________________\n",
      "conv2d_203 (Conv2D)              (None, 32, 32, 512)   524800      concatenate_35[0][0]             \n",
      "____________________________________________________________________________________________________\n",
      "conv2d_204 (Conv2D)              (None, 32, 32, 128)   589952      conv2d_203[0][0]                 \n",
      "____________________________________________________________________________________________________\n",
      "up_sampling2d_38 (UpSampling2D)  (None, 64, 64, 128)   0           conv2d_204[0][0]                 \n",
      "____________________________________________________________________________________________________\n",
      "concatenate_36 (Concatenate)     (None, 64, 64, 256)   0           up_sampling2d_38[0][0]           \n",
      "                                                                   conv2d_195[0][0]                 \n",
      "____________________________________________________________________________________________________\n",
      "conv2d_205 (Conv2D)              (None, 64, 64, 128)   32896       concatenate_36[0][0]             \n",
      "____________________________________________________________________________________________________\n",
      "conv2d_206 (Conv2D)              (None, 64, 64, 32)    36896       conv2d_205[0][0]                 \n",
      "____________________________________________________________________________________________________\n",
      "up_sampling2d_39 (UpSampling2D)  (None, 128, 128, 32)  0           conv2d_206[0][0]                 \n",
      "____________________________________________________________________________________________________\n",
      "concatenate_37 (Concatenate)     (None, 128, 128, 64)  0           up_sampling2d_39[0][0]           \n",
      "                                                                   conv2d_193[0][0]                 \n",
      "____________________________________________________________________________________________________\n",
      "conv2d_207 (Conv2D)              (None, 128, 128, 128) 8320        concatenate_37[0][0]             \n",
      "____________________________________________________________________________________________________\n",
      "conv2d_208 (Conv2D)              (None, 128, 128, 32)  36896       conv2d_207[0][0]                 \n",
      "____________________________________________________________________________________________________\n",
      "conv2d_209 (Conv2D)              (None, 128, 128, 1)   33          conv2d_208[0][0]                 \n",
      "====================================================================================================\n",
      "Total params: 9,551,233\n",
      "Trainable params: 9,551,233\n",
      "Non-trainable params: 0\n",
      "____________________________________________________________________________________________________\n"
     ]
    }
   ],
   "source": [
    "model.summary()"
   ]
  },
  {
   "cell_type": "code",
   "execution_count": 35,
   "metadata": {
    "collapsed": true
   },
   "outputs": [],
   "source": [
    "def data_gen_small(data_dir, mask_dir, images, batch_size):\n",
    "        while True:\n",
    "            ix = np.random.choice(np.arange(len(images)), batch_size)\n",
    "            imgs = []\n",
    "            labels = []\n",
    "            for i in ix:\n",
    "                img = img_to_array(load_img(data_dir + images[i])) / 255\n",
    "                imgs.append(img)\n",
    "                label = (img_to_array(load_img(mask_dir + images[i].split(\".\")[0] + '_mask.gif')) / 255)[:, :, 0].reshape(128, 128, 1)\n",
    "                labels.append(label)\n",
    "            imgs = np.array(imgs)\n",
    "            labels = np.array(labels)\n",
    "            yield imgs, labels"
   ]
  },
  {
   "cell_type": "code",
   "execution_count": 44,
   "metadata": {
    "collapsed": true
   },
   "outputs": [],
   "source": [
    "data_dir = \"../small_dataset/train/\"\n",
    "mask_dir = \"../small_dataset/train_masks/\"\n",
    "all_images = os.listdir(data_dir)\n",
    "\n",
    "train_images, validation_images = train_test_split(all_images, train_size=0.8)"
   ]
  },
  {
   "cell_type": "code",
   "execution_count": 45,
   "metadata": {
    "collapsed": true
   },
   "outputs": [],
   "source": [
    "a = data_gen_small(data_dir, mask_dir, train_images, batch_size=32)"
   ]
  },
  {
   "cell_type": "code",
   "execution_count": 46,
   "metadata": {
    "collapsed": true
   },
   "outputs": [],
   "source": [
    "img, tr = next(a)"
   ]
  },
  {
   "cell_type": "code",
   "execution_count": 47,
   "metadata": {
    "collapsed": false
   },
   "outputs": [
    {
     "data": {
      "text/plain": [
       "(32, 128, 128, 3)"
      ]
     },
     "execution_count": 47,
     "metadata": {},
     "output_type": "execute_result"
    }
   ],
   "source": [
    "img.shape"
   ]
  },
  {
   "cell_type": "code",
   "execution_count": 48,
   "metadata": {
    "collapsed": false
   },
   "outputs": [
    {
     "data": {
      "text/plain": [
       "(32, 128, 128, 1)"
      ]
     },
     "execution_count": 48,
     "metadata": {},
     "output_type": "execute_result"
    }
   ],
   "source": [
    "tr.shape"
   ]
  },
  {
   "cell_type": "code",
   "execution_count": null,
   "metadata": {
    "collapsed": true
   },
   "outputs": [],
   "source": []
  }
 ],
 "metadata": {
  "anaconda-cloud": {},
  "kernelspec": {
   "display_name": "Python [conda root]",
   "language": "python",
   "name": "conda-root-py"
  },
  "language_info": {
   "codemirror_mode": {
    "name": "ipython",
    "version": 3
   },
   "file_extension": ".py",
   "mimetype": "text/x-python",
   "name": "python",
   "nbconvert_exporter": "python",
   "pygments_lexer": "ipython3",
   "version": "3.5.2"
  }
 },
 "nbformat": 4,
 "nbformat_minor": 2
}
